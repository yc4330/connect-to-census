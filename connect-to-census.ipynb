{
 "cells": [
  {
   "cell_type": "markdown",
   "metadata": {},
   "source": [
    "# Notebook Title"
   ]
  },
  {
   "cell_type": "markdown",
   "metadata": {},
   "source": [
    "## Setup Python and R environment\n",
    "you can ignore this section"
   ]
  },
  {
   "cell_type": "code",
   "execution_count": 1,
   "metadata": {},
   "outputs": [],
   "source": [
    "%load_ext rpy2.ipython\n",
    "%load_ext autoreload\n",
    "%autoreload 2\n",
    "\n",
    "%matplotlib inline  \n",
    "from matplotlib import rcParams\n",
    "rcParams['figure.figsize'] = (16, 100)\n",
    "\n",
    "import warnings\n",
    "from rpy2.rinterface import RRuntimeWarning\n",
    "warnings.filterwarnings(\"ignore\") # Ignore all warnings\n",
    "# warnings.filterwarnings(\"ignore\", category=RRuntimeWarning) # Show some warnings\n",
    "\n",
    "import pandas as pd\n",
    "import numpy as np\n",
    "import matplotlib.pyplot as plt\n",
    "from IPython.display import display, HTML"
   ]
  },
  {
   "cell_type": "code",
   "execution_count": 2,
   "metadata": {},
   "outputs": [
    {
     "data": {
      "application/javascript": "// Disable auto-scrolling\nIPython.OutputArea.prototype._should_scroll = function(lines) {\n    return false;\n}\n",
      "text/plain": [
       "<IPython.core.display.Javascript object>"
      ]
     },
     "metadata": {},
     "output_type": "display_data"
    }
   ],
   "source": [
    "%%javascript\n",
    "// Disable auto-scrolling\n",
    "IPython.OutputArea.prototype._should_scroll = function(lines) {\n",
    "    return false;\n",
    "}"
   ]
  },
  {
   "cell_type": "code",
   "execution_count": 3,
   "metadata": {},
   "outputs": [
    {
     "name": "stdout",
     "output_type": "stream",
     "text": [
      "── Attaching core tidyverse packages ──────────────────────── tidyverse 2.0.0 ──\n",
      "✔ dplyr     1.1.4     ✔ readr     2.1.5\n",
      "✔ forcats   1.0.0     ✔ stringr   1.5.1\n",
      "✔ ggplot2   3.4.4     ✔ tibble    3.2.1\n",
      "✔ lubridate 1.9.3     ✔ tidyr     1.3.0\n",
      "✔ purrr     1.0.2     \n",
      "── Conflicts ────────────────────────────────────────── tidyverse_conflicts() ──\n",
      "✖ dplyr::filter() masks stats::filter()\n",
      "✖ dplyr::lag()    masks stats::lag()\n",
      "ℹ Use the conflicted package (<http://conflicted.r-lib.org/>) to force all conflicts to become errors\n"
     ]
    },
    {
     "data": {
      "text/plain": [
       "Loading required package: tidyverse\n"
      ]
     },
     "metadata": {},
     "output_type": "display_data"
    }
   ],
   "source": [
    "%%R\n",
    "\n",
    "# My commonly used R imports\n",
    "\n",
    "require('tidyverse')"
   ]
  },
  {
   "cell_type": "markdown",
   "metadata": {},
   "source": [
    "## 👉 download your data\n",
    "\n",
    "You can write code here to download your dataset. Or if you already have it, just leave the URL in the comments and just load it into a pandas or R (or both) dataframe."
   ]
  },
  {
   "cell_type": "code",
   "execution_count": 10,
   "metadata": {},
   "outputs": [
    {
     "name": "stdout",
     "output_type": "stream",
     "text": [
      " [1] \"Unique.Key\"                     \"Created.Date\"                  \n",
      " [3] \"Closed.Date\"                    \"Agency\"                        \n",
      " [5] \"Agency.Name\"                    \"Complaint.Type\"                \n",
      " [7] \"Descriptor\"                     \"Location.Type\"                 \n",
      " [9] \"Incident.Zip\"                   \"Incident.Address\"              \n",
      "[11] \"Street.Name\"                    \"Cross.Street.1\"                \n",
      "[13] \"Cross.Street.2\"                 \"Intersection.Street.1\"         \n",
      "[15] \"Intersection.Street.2\"          \"Address.Type\"                  \n",
      "[17] \"City\"                           \"Landmark\"                      \n",
      "[19] \"Facility.Type\"                  \"Status\"                        \n",
      "[21] \"Due.Date\"                       \"Resolution.Action.Updated.Date\"\n",
      "[23] \"Community.Board\"                \"Borough\"                       \n",
      "[25] \"X.Coordinate..State.Plane.\"     \"Y.Coordinate..State.Plane.\"    \n",
      "[27] \"Park.Facility.Name\"             \"Park.Borough\"                  \n",
      "[29] \"Vehicle.Type\"                   \"Taxi.Company.Borough\"          \n",
      "[31] \"Taxi.Pick.Up.Location\"          \"Bridge.Highway.Name\"           \n",
      "[33] \"Bridge.Highway.Direction\"       \"Road.Ramp\"                     \n",
      "[35] \"Bridge.Highway.Segment\"         \"Latitude\"                      \n",
      "[37] \"Longitude\"                      \"Location\"                      \n"
     ]
    }
   ],
   "source": [
    "%%R -o data\n",
    "# Load the data from fireworks-14to24.csv\n",
    "data <- read.csv('fireworks-14to24.csv')\n",
    "# print column name\n",
    "print(colnames(data))"
   ]
  },
  {
   "cell_type": "code",
   "execution_count": 11,
   "metadata": {},
   "outputs": [
    {
     "data": {
      "text/html": [
       "<div>\n",
       "<style scoped>\n",
       "    .dataframe tbody tr th:only-of-type {\n",
       "        vertical-align: middle;\n",
       "    }\n",
       "\n",
       "    .dataframe tbody tr th {\n",
       "        vertical-align: top;\n",
       "    }\n",
       "\n",
       "    .dataframe thead th {\n",
       "        text-align: right;\n",
       "    }\n",
       "</style>\n",
       "<table border=\"1\" class=\"dataframe\">\n",
       "  <thead>\n",
       "    <tr style=\"text-align: right;\">\n",
       "      <th></th>\n",
       "      <th>Unique.Key</th>\n",
       "      <th>Created.Date</th>\n",
       "      <th>Closed.Date</th>\n",
       "      <th>Agency</th>\n",
       "      <th>Agency.Name</th>\n",
       "      <th>Complaint.Type</th>\n",
       "      <th>Descriptor</th>\n",
       "      <th>Location.Type</th>\n",
       "      <th>Incident.Zip</th>\n",
       "      <th>Incident.Address</th>\n",
       "      <th>...</th>\n",
       "      <th>Vehicle.Type</th>\n",
       "      <th>Taxi.Company.Borough</th>\n",
       "      <th>Taxi.Pick.Up.Location</th>\n",
       "      <th>Bridge.Highway.Name</th>\n",
       "      <th>Bridge.Highway.Direction</th>\n",
       "      <th>Road.Ramp</th>\n",
       "      <th>Bridge.Highway.Segment</th>\n",
       "      <th>Latitude</th>\n",
       "      <th>Longitude</th>\n",
       "      <th>Location</th>\n",
       "    </tr>\n",
       "  </thead>\n",
       "  <tbody>\n",
       "    <tr>\n",
       "      <th>1</th>\n",
       "      <td>43541687</td>\n",
       "      <td>08/13/2019 08:29:12 PM</td>\n",
       "      <td>08/13/2019 08:42:05 PM</td>\n",
       "      <td>NYPD</td>\n",
       "      <td>New York City Police Department</td>\n",
       "      <td>Illegal Fireworks</td>\n",
       "      <td>N/A</td>\n",
       "      <td>Street/Sidewalk</td>\n",
       "      <td>11418</td>\n",
       "      <td>117-01 PARK LANE SOUTH</td>\n",
       "      <td>...</td>\n",
       "      <td>-2147483648</td>\n",
       "      <td>-2147483648</td>\n",
       "      <td>-2147483648</td>\n",
       "      <td></td>\n",
       "      <td></td>\n",
       "      <td></td>\n",
       "      <td></td>\n",
       "      <td>40.708113</td>\n",
       "      <td>-73.837069</td>\n",
       "      <td>(40.70811260705003, -73.83706942923195)</td>\n",
       "    </tr>\n",
       "    <tr>\n",
       "      <th>2</th>\n",
       "      <td>43513428</td>\n",
       "      <td>08/10/2019 10:35:49 PM</td>\n",
       "      <td>08/11/2019 09:26:46 AM</td>\n",
       "      <td>NYPD</td>\n",
       "      <td>New York City Police Department</td>\n",
       "      <td>Illegal Fireworks</td>\n",
       "      <td>N/A</td>\n",
       "      <td>Store/Commercial</td>\n",
       "      <td>11205</td>\n",
       "      <td>216 CLASSON AVENUE</td>\n",
       "      <td>...</td>\n",
       "      <td>-2147483648</td>\n",
       "      <td>-2147483648</td>\n",
       "      <td>-2147483648</td>\n",
       "      <td></td>\n",
       "      <td></td>\n",
       "      <td></td>\n",
       "      <td></td>\n",
       "      <td>40.693139</td>\n",
       "      <td>-73.960910</td>\n",
       "      <td>(40.69313878604185, -73.96091008189755)</td>\n",
       "    </tr>\n",
       "    <tr>\n",
       "      <th>3</th>\n",
       "      <td>43527406</td>\n",
       "      <td>08/12/2019 08:34:49 PM</td>\n",
       "      <td>08/12/2019 09:39:10 PM</td>\n",
       "      <td>NYPD</td>\n",
       "      <td>New York City Police Department</td>\n",
       "      <td>Illegal Fireworks</td>\n",
       "      <td>N/A</td>\n",
       "      <td>Street/Sidewalk</td>\n",
       "      <td>11222</td>\n",
       "      <td>155 NEWEL STREET</td>\n",
       "      <td>...</td>\n",
       "      <td>-2147483648</td>\n",
       "      <td>-2147483648</td>\n",
       "      <td>-2147483648</td>\n",
       "      <td></td>\n",
       "      <td></td>\n",
       "      <td></td>\n",
       "      <td></td>\n",
       "      <td>40.727540</td>\n",
       "      <td>-73.948951</td>\n",
       "      <td>(40.727539707820746, -73.94895121986907)</td>\n",
       "    </tr>\n",
       "    <tr>\n",
       "      <th>4</th>\n",
       "      <td>46536390</td>\n",
       "      <td>06/19/2020 11:25:27 PM</td>\n",
       "      <td>06/20/2020 12:23:38 AM</td>\n",
       "      <td>NYPD</td>\n",
       "      <td>New York City Police Department</td>\n",
       "      <td>Illegal Fireworks</td>\n",
       "      <td>N/A</td>\n",
       "      <td>Street/Sidewalk</td>\n",
       "      <td>10029</td>\n",
       "      <td>150 EAST  100 STREET</td>\n",
       "      <td>...</td>\n",
       "      <td>-2147483648</td>\n",
       "      <td>-2147483648</td>\n",
       "      <td>-2147483648</td>\n",
       "      <td></td>\n",
       "      <td></td>\n",
       "      <td></td>\n",
       "      <td></td>\n",
       "      <td>40.788319</td>\n",
       "      <td>-73.948829</td>\n",
       "      <td>(40.788319283890075, -73.94882878166979)</td>\n",
       "    </tr>\n",
       "    <tr>\n",
       "      <th>5</th>\n",
       "      <td>43538154</td>\n",
       "      <td>08/13/2019 07:53:29 PM</td>\n",
       "      <td>08/15/2019 02:37:02 AM</td>\n",
       "      <td>NYPD</td>\n",
       "      <td>New York City Police Department</td>\n",
       "      <td>Illegal Fireworks</td>\n",
       "      <td>N/A</td>\n",
       "      <td>Residential Building/House</td>\n",
       "      <td>11103</td>\n",
       "      <td>32-41 STEINWAY STREET</td>\n",
       "      <td>...</td>\n",
       "      <td>-2147483648</td>\n",
       "      <td>-2147483648</td>\n",
       "      <td>-2147483648</td>\n",
       "      <td></td>\n",
       "      <td></td>\n",
       "      <td></td>\n",
       "      <td></td>\n",
       "      <td>40.757740</td>\n",
       "      <td>-73.919986</td>\n",
       "      <td>(40.75774019463913, -73.91998646801687)</td>\n",
       "    </tr>\n",
       "  </tbody>\n",
       "</table>\n",
       "<p>5 rows × 38 columns</p>\n",
       "</div>"
      ],
      "text/plain": [
       "   Unique.Key            Created.Date             Closed.Date Agency  \\\n",
       "1    43541687  08/13/2019 08:29:12 PM  08/13/2019 08:42:05 PM   NYPD   \n",
       "2    43513428  08/10/2019 10:35:49 PM  08/11/2019 09:26:46 AM   NYPD   \n",
       "3    43527406  08/12/2019 08:34:49 PM  08/12/2019 09:39:10 PM   NYPD   \n",
       "4    46536390  06/19/2020 11:25:27 PM  06/20/2020 12:23:38 AM   NYPD   \n",
       "5    43538154  08/13/2019 07:53:29 PM  08/15/2019 02:37:02 AM   NYPD   \n",
       "\n",
       "                       Agency.Name     Complaint.Type Descriptor  \\\n",
       "1  New York City Police Department  Illegal Fireworks        N/A   \n",
       "2  New York City Police Department  Illegal Fireworks        N/A   \n",
       "3  New York City Police Department  Illegal Fireworks        N/A   \n",
       "4  New York City Police Department  Illegal Fireworks        N/A   \n",
       "5  New York City Police Department  Illegal Fireworks        N/A   \n",
       "\n",
       "                Location.Type  Incident.Zip        Incident.Address  ...  \\\n",
       "1             Street/Sidewalk         11418  117-01 PARK LANE SOUTH  ...   \n",
       "2            Store/Commercial         11205      216 CLASSON AVENUE  ...   \n",
       "3             Street/Sidewalk         11222        155 NEWEL STREET  ...   \n",
       "4             Street/Sidewalk         10029    150 EAST  100 STREET  ...   \n",
       "5  Residential Building/House         11103   32-41 STEINWAY STREET  ...   \n",
       "\n",
       "  Vehicle.Type Taxi.Company.Borough Taxi.Pick.Up.Location Bridge.Highway.Name  \\\n",
       "1  -2147483648          -2147483648           -2147483648                       \n",
       "2  -2147483648          -2147483648           -2147483648                       \n",
       "3  -2147483648          -2147483648           -2147483648                       \n",
       "4  -2147483648          -2147483648           -2147483648                       \n",
       "5  -2147483648          -2147483648           -2147483648                       \n",
       "\n",
       "  Bridge.Highway.Direction Road.Ramp Bridge.Highway.Segment   Latitude  \\\n",
       "1                                                            40.708113   \n",
       "2                                                            40.693139   \n",
       "3                                                            40.727540   \n",
       "4                                                            40.788319   \n",
       "5                                                            40.757740   \n",
       "\n",
       "   Longitude                                  Location  \n",
       "1 -73.837069   (40.70811260705003, -73.83706942923195)  \n",
       "2 -73.960910   (40.69313878604185, -73.96091008189755)  \n",
       "3 -73.948951  (40.727539707820746, -73.94895121986907)  \n",
       "4 -73.948829  (40.788319283890075, -73.94882878166979)  \n",
       "5 -73.919986   (40.75774019463913, -73.91998646801687)  \n",
       "\n",
       "[5 rows x 38 columns]"
      ]
     },
     "execution_count": 11,
     "metadata": {},
     "output_type": "execute_result"
    }
   ],
   "source": [
    "import pandas as pd\n",
    "# data.head\n",
    "data.head()"
   ]
  },
  {
   "cell_type": "code",
   "execution_count": 12,
   "metadata": {},
   "outputs": [],
   "source": [
    "# data Created.Date\tClosed.Date into datetime\n",
    "data['Created.Date'] = pd.to_datetime(data['Created.Date'])\n",
    "data['Closed.Date'] = pd.to_datetime(data['Closed.Date'])"
   ]
  },
  {
   "cell_type": "code",
   "execution_count": 14,
   "metadata": {},
   "outputs": [],
   "source": [
    "# create a new column \"Duration\" as Closed.Date - Created.Date, in seconds, then convert to minutes\n",
    "data['Duration'] = (data['Closed.Date'] - data['Created.Date']).dt.total_seconds() / 60"
   ]
  },
  {
   "cell_type": "code",
   "execution_count": 15,
   "metadata": {},
   "outputs": [],
   "source": [
    "data.to_csv('fireworks-14to24.csv', index=False)"
   ]
  },
  {
   "cell_type": "markdown",
   "metadata": {},
   "source": [
    "## 👉 convert addresses --> lat/long \n",
    "\n",
    "See the [census-examples](https://github.com/data4news/census-examples) repository for examples. If you need help, try asking in the class slack channel. Chances are someone in the class is struggling with the same problem as you are so we might as well all learn together in the same slack channel! "
   ]
  },
  {
   "cell_type": "code",
   "execution_count": null,
   "metadata": {},
   "outputs": [],
   "source": []
  },
  {
   "cell_type": "code",
   "execution_count": null,
   "metadata": {},
   "outputs": [],
   "source": []
  },
  {
   "cell_type": "code",
   "execution_count": null,
   "metadata": {},
   "outputs": [],
   "source": []
  },
  {
   "cell_type": "markdown",
   "metadata": {},
   "source": [
    "## 👉 convert lat/long to census geography codes \n",
    "\n",
    "(like 'GEOID', 'STATE', 'COUNTY', 'TRACT', 'BLOCK', etc...)\n",
    "\n",
    "Same note as above, see [census-examples](https://github.com/data4news/census-examples) repository for examples or ask in the class slack channel if stuck."
   ]
  },
  {
   "cell_type": "markdown",
   "metadata": {},
   "source": []
  },
  {
   "cell_type": "code",
   "execution_count": null,
   "metadata": {},
   "outputs": [],
   "source": []
  },
  {
   "cell_type": "code",
   "execution_count": null,
   "metadata": {},
   "outputs": [],
   "source": []
  },
  {
   "cell_type": "code",
   "execution_count": null,
   "metadata": {},
   "outputs": [],
   "source": []
  },
  {
   "cell_type": "markdown",
   "metadata": {},
   "source": [
    "## 👉 Output Data\n",
    "\n",
    "Output your dataframe containing your data and the Census connector codes (like tract, block, etc...)."
   ]
  },
  {
   "cell_type": "code",
   "execution_count": null,
   "metadata": {},
   "outputs": [],
   "source": []
  },
  {
   "cell_type": "code",
   "execution_count": null,
   "metadata": {},
   "outputs": [],
   "source": []
  },
  {
   "cell_type": "code",
   "execution_count": null,
   "metadata": {},
   "outputs": [],
   "source": []
  }
 ],
 "metadata": {
  "kernelspec": {
   "display_name": "Python 3 (ipykernel)",
   "language": "python",
   "name": "python3"
  },
  "language_info": {
   "codemirror_mode": {
    "name": "ipython",
    "version": 3
   },
   "file_extension": ".py",
   "mimetype": "text/x-python",
   "name": "python",
   "nbconvert_exporter": "python",
   "pygments_lexer": "ipython3",
   "version": "3.11.6"
  }
 },
 "nbformat": 4,
 "nbformat_minor": 4
}
