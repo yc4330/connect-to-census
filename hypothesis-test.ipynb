{
 "cells": [
  {
   "cell_type": "code",
   "execution_count": 1,
   "metadata": {},
   "outputs": [],
   "source": [
    "%load_ext rpy2.ipython\n",
    "%load_ext autoreload\n",
    "%autoreload 2\n",
    "\n",
    "%matplotlib inline  \n",
    "from matplotlib import rcParams\n",
    "rcParams['figure.figsize'] = (16, 100)\n",
    "\n",
    "import warnings\n",
    "from rpy2.rinterface import RRuntimeWarning\n",
    "warnings.filterwarnings(\"ignore\") # Ignore all warnings\n",
    "# warnings.filterwarnings(\"ignore\", category=RRuntimeWarning) # Show some warnings\n",
    "\n",
    "import pandas as pd\n",
    "import numpy as np\n",
    "import matplotlib.pyplot as plt\n",
    "from IPython.display import display, HTML"
   ]
  },
  {
   "cell_type": "code",
   "execution_count": 2,
   "metadata": {},
   "outputs": [
    {
     "data": {
      "application/javascript": "// Disable auto-scrolling\nIPython.OutputArea.prototype._should_scroll = function(lines) {\n    return false;\n}\n",
      "text/plain": [
       "<IPython.core.display.Javascript object>"
      ]
     },
     "metadata": {},
     "output_type": "display_data"
    }
   ],
   "source": [
    "%%javascript\n",
    "// Disable auto-scrolling\n",
    "IPython.OutputArea.prototype._should_scroll = function(lines) {\n",
    "    return false;\n",
    "}"
   ]
  },
  {
   "cell_type": "code",
   "execution_count": 2,
   "metadata": {},
   "outputs": [
    {
     "name": "stdout",
     "output_type": "stream",
     "text": [
      "── Attaching core tidyverse packages ──────────────────────── tidyverse 2.0.0 ──\n",
      "✔ dplyr     1.1.4     ✔ readr     2.1.5\n",
      "✔ forcats   1.0.0     ✔ stringr   1.5.1\n",
      "✔ ggplot2   3.4.4     ✔ tibble    3.2.1\n",
      "✔ lubridate 1.9.3     ✔ tidyr     1.3.0\n",
      "✔ purrr     1.0.2     \n",
      "── Conflicts ────────────────────────────────────────── tidyverse_conflicts() ──\n",
      "✖ dplyr::filter() masks stats::filter()\n",
      "✖ dplyr::lag()    masks stats::lag()\n",
      "ℹ Use the conflicted package (<http://conflicted.r-lib.org/>) to force all conflicts to become errors\n"
     ]
    },
    {
     "data": {
      "text/plain": [
       "Loading required package: tidyverse\n"
      ]
     },
     "metadata": {},
     "output_type": "display_data"
    }
   ],
   "source": [
    "%%R\n",
    "\n",
    "# My commonly used R imports\n",
    "\n",
    "require('tidyverse')"
   ]
  },
  {
   "cell_type": "code",
   "execution_count": null,
   "metadata": {},
   "outputs": [],
   "source": [
    "# firework_complaint ~ population, median_income, race, age, ..., shooting_incident? air_quality?"
   ]
  },
  {
   "cell_type": "code",
   "execution_count": 3,
   "metadata": {},
   "outputs": [],
   "source": [
    "%%R\n",
    "# read fireworks-14to24.csv as df\n",
    "df <- read_csv('fireworks-14to24.csv', show_col_types = FALSE)"
   ]
  },
  {
   "cell_type": "code",
   "execution_count": 10,
   "metadata": {},
   "outputs": [
    {
     "name": "stdout",
     "output_type": "stream",
     "text": [
      "\n",
      "\tWelch Two Sample t-test\n",
      "\n",
      "data:  df_2022$n and df_2023$n\n",
      "t = -0.68628, df = 344.11, p-value = 0.493\n",
      "alternative hypothesis: true difference in means is not equal to 0\n",
      "95 percent confidence interval:\n",
      " -13.952871   6.734611\n",
      "sample estimates:\n",
      "mean of x mean of y \n",
      " 51.49432  55.10345 \n",
      "\n"
     ]
    }
   ],
   "source": [
    "%%R\n",
    "# hypothesis test 1: t-test\n",
    "# question: compare 2022 and 2023 firework complaints in each zipcode\n",
    "# H0: there is no significant difference\n",
    "# H1: there is significant difference\n",
    "\n",
    "# filter year=2022, groupby zipcode, count complaints, filter n>0\n",
    "df_2022 <- df %>% \n",
    "filter(year(Created.Date)==2022) %>% \n",
    "group_by(Incident.Zip) %>%\n",
    "summarise(n = n())%>%\n",
    "filter(Incident.Zip>0)\n",
    "\n",
    "df_2023 <- df %>% \n",
    "filter(year(Created.Date)==2023) %>% \n",
    "group_by(Incident.Zip) %>%\n",
    "summarise(n = n())%>%\n",
    "filter(Incident.Zip>0)\n",
    "\n",
    "t.test(df_2022$n, df_2023$n)"
   ]
  },
  {
   "cell_type": "code",
   "execution_count": 13,
   "metadata": {},
   "outputs": [
    {
     "name": "stdout",
     "output_type": "stream",
     "text": [
      "    zipcode 2022 2023"
     ]
    },
    {
     "name": "stdout",
     "output_type": "stream",
     "text": [
      "\n",
      "1     10000    4    0\n",
      "2     10001    4   13\n",
      "3     10002  110  116\n",
      "4     10003   10    5\n",
      "5     10004    0    4\n",
      "6     10005    2    1\n",
      "7     10009   49   36\n",
      "8     10010    5    3\n",
      "9     10011   12   16\n",
      "10    10012   21    7\n",
      "11    10013    3    5\n",
      "12    10014    2    9\n",
      "13    10016   23    5\n",
      "14    10017    2    0\n",
      "15    10018    3    2\n",
      "16    10019    7   10\n",
      "17    10021    4    3\n",
      "18    10022    3    1\n",
      "19    10023   11    9\n",
      "20    10024   10   11\n",
      "21    10025   38   37\n",
      "22    10026   63   24\n",
      "23    10027   72   58\n",
      "24    10028    2    0\n",
      "25    10029  202  121\n",
      "26    10030   14   24\n",
      "27    10031  136  212\n",
      "28    10032  280  211\n",
      "29    10033  160   45\n",
      "30    10034  162  231\n",
      "31    10035   68   60\n",
      "32    10036    4   11\n",
      "33    10037   26   37\n",
      "34    10038   40   28\n",
      "35    10039   28   30\n",
      "36    10040  206  217\n",
      "37    10044    0    2\n",
      "38    10065    0    2\n",
      "39    10069    1    0\n",
      "40    10075    3    1\n",
      "41    10128   20   24\n",
      "42    10280    2    0\n",
      "43    10301   50   37\n",
      "44    10302   42   37\n",
      "45    10303   20   26\n",
      "46    10304   29   53\n",
      "47    10305   50   68\n",
      "48    10306  123  150\n",
      "49    10307   34   46\n",
      "50    10308   65   49\n",
      "51    10309  115  149\n",
      "52    10310   58   33\n",
      "53    10312  186  163\n",
      "54    10314  137  118\n",
      "55    10451   34   63\n",
      "56    10452   95  120\n",
      "57    10453   51   65\n",
      "58    10454   23   44\n",
      "59    10455   26   33\n",
      "60    10456   58   37\n",
      "61    10457   59   51\n",
      "62    10458   55   33\n",
      "63    10459   46   39\n",
      "64    10460   42   51\n",
      "65    10461   66   48\n",
      "66    10462   55   99\n",
      "67    10463   83   90\n",
      "68    10464    3    6\n",
      "69    10465   71   51\n",
      "70    10466   53   44\n",
      "71    10467  110  104\n",
      "72    10468  141  138\n",
      "73    10469   58   62\n",
      "74    10470   10   10\n",
      "75    10471    9   18\n",
      "76    10472   58   80\n",
      "77    10473   38   46\n",
      "78    10474   11    7\n",
      "79    10475    4    3\n",
      "80    11001    7   20\n",
      "81    11004   24   44\n",
      "82    11040    1    3\n",
      "83    11101   24   60\n",
      "84    11102   60   91\n",
      "85    11103   17   34\n",
      "86    11104   21   13\n",
      "87    11105   61   55\n",
      "88    11106   28   31\n",
      "89    11109   12    4\n",
      "90    11201   32   42\n",
      "91    11203  103  112\n",
      "92    11204   63   60\n",
      "93    11205   10   13\n",
      "94    11206   47   59\n",
      "95    11207   56   77\n",
      "96    11208  107  100\n",
      "97    11209  111  269\n",
      "98    11210   71   47\n",
      "99    11211   43   43\n",
      "100   11212   55   66\n",
      "101   11213   38   55\n",
      "102   11214   62   99\n",
      "103   11215   25   25\n",
      "104   11216  134   94\n",
      "105   11217   10    6\n",
      "106   11218   42   93\n",
      "107   11219   25   40\n",
      "108   11220   74   96\n",
      "109   11221  115  114\n",
      "110   11222   42   55\n",
      "111   11223  114  165\n",
      "112   11224   17   21\n",
      "113   11225   91   48\n",
      "114   11226  176  225\n",
      "115   11228   82   65\n",
      "116   11229   95   82\n",
      "117   11230   56   60\n",
      "118   11231   27   22\n",
      "119   11232   28   36\n",
      "120   11233   31   56\n",
      "121   11234  103  110\n",
      "122   11235   97  107\n",
      "123   11236   62   39\n",
      "124   11237   64   59\n",
      "125   11238   99   55\n",
      "126   11239    0    2\n",
      "127   11249   44   39\n",
      "128   11251    1    0\n",
      "129   11354   23   35\n",
      "130   11355   47   32\n",
      "131   11356   19   23\n",
      "132   11357  113   67\n",
      "133   11358   49   34\n",
      "134   11359    4   29\n",
      "135   11360   25   16\n",
      "136   11361   56   61\n",
      "137   11362    5   11\n",
      "138   11363    3    2\n",
      "139   11364   42   77\n",
      "140   11365   21   30\n",
      "141   11366   18   17\n",
      "142   11367   15   21\n",
      "143   11368  108  142\n",
      "144   11369   37   24\n",
      "145   11370   41   30\n",
      "146   11372   78  260\n",
      "147   11373   50   56\n",
      "148   11374   27   28\n",
      "149   11375   16   29\n",
      "150   11377   62  126\n",
      "151   11378   50   54\n",
      "152   11379  141   45\n",
      "153   11385  139  138\n",
      "154   11411   22   45\n",
      "155   11412   71   45\n",
      "156   11413   41   42\n",
      "157   11414   44   40\n",
      "158   11415   19   16\n",
      "159   11416   28   32\n",
      "160   11417   27   41\n",
      "161   11418   79   58\n",
      "162   11419   99   85\n",
      "163   11420  118   99\n",
      "164   11421   37   53\n",
      "165   11422   29   34\n",
      "166   11423   39   34\n",
      "167   11426   54   32\n",
      "168   11427   16   40\n",
      "169   11428   57   37\n",
      "170   11429   22   47\n",
      "171   11430    0    1\n",
      "172   11432   68   71\n",
      "173   11433   32   29\n",
      "174   11434  101   82\n",
      "175   11435   42   45\n",
      "176   11436   43   43\n",
      "177   11691   41   27\n",
      "178   11692   19   32\n",
      "179   11693   11   44\n",
      "180   11694   27   34\n",
      "181   11697    1    0\n"
     ]
    }
   ],
   "source": [
    "%%R\n",
    "# df_year = merge df_2022 and df_2023\n",
    "df_year <- merge(df_2022, df_2023, by = \"Incident.Zip\", all = TRUE)\n",
    "# chage NA value to 0\n",
    "df_year[is.na(df_year)] <- 0\n",
    "# rename columns as zipcode, 2022, 2023\n",
    "colnames(df_year) <- c(\"zipcode\", \"2022\", \"2023\")\n",
    "df_year"
   ]
  },
  {
   "cell_type": "code",
   "execution_count": 16,
   "metadata": {},
   "outputs": [
    {
     "data": {
      "image/png": "[encoded data removed]",
      "text/plain": [
       "<IPython.core.display.Image object>"
      ]
     },
     "metadata": {},
     "output_type": "display_data"
    }
   ],
   "source": [
    "%%R\n",
    "df_year_long <- df_year %>%\n",
    "  gather(key = \"year\", value = \"value\", -zipcode)\n",
    "ggplot(df_year_long, aes(x = year, y = value)) +\n",
    "  geom_point() +\n",
    "  labs(title = \"Number of Complaints by Year and Zipcode\",\n",
    "       x = \"Year\",\n",
    "       y = \"Number of Complaints\")"
   ]
  },
  {
   "cell_type": "code",
   "execution_count": 17,
   "metadata": {},
   "outputs": [
    {
     "name": "stdout",
     "output_type": "stream",
     "text": [
      "  zipcode year value\n",
      "1   10000 2022     4\n",
      "2   10001 2022     4\n",
      "3   10002 2022   110\n",
      "4   10003 2022    10\n"
     ]
    }
   ],
   "source": [
    "%%R\n",
    "df_year_long %>% head(4)"
   ]
  },
  {
   "cell_type": "code",
   "execution_count": 18,
   "metadata": {},
   "outputs": [
    {
     "name": "stdout",
     "output_type": "stream",
     "text": [
      "\n",
      "\tWelch Two Sample t-test\n",
      "\n",
      "data:  value by year\n",
      "t = -0.55985, df = 356.82, p-value = 0.5759\n",
      "alternative hypothesis: true difference in means between group 2022 and group 2023 is not equal to 0\n",
      "95 percent confidence interval:\n",
      " -13.08962   7.28851\n",
      "sample estimates:\n",
      "mean in group 2022 mean in group 2023 \n",
      "          50.07182           52.97238 \n",
      "\n"
     ]
    }
   ],
   "source": [
    "%%R\n",
    "t.test(value ~ year, data = df_year_long) "
   ]
  },
  {
   "cell_type": "code",
   "execution_count": 20,
   "metadata": {},
   "outputs": [
    {
     "data": {
      "image/png": "[encoded data removed]",
      "text/plain": [
       "<IPython.core.display.Image object>"
      ]
     },
     "metadata": {},
     "output_type": "display_data"
    }
   ],
   "source": [
    "%%R\n",
    "# filter year(Created.Date)==2023 and month(Created.Date)==1 or 2, groupby zipcode, count complaints, filter n>0, change NA to 0\n",
    "df_2023_jan_feb <- df %>%\n",
    "filter(year(Created.Date)==2023 & (month(Created.Date)==1 | month(Created.Date)==2)) %>%\n",
    "group_by(Incident.Zip) %>%\n",
    "summarise(n = n()) %>%\n",
    "filter(Incident.Zip>0)\n",
    "\n",
    "df_2024_jan_feb <- df %>%\n",
    "filter(year(Created.Date)==2024 & (month(Created.Date)==1 | month(Created.Date)==2)) %>%\n",
    "group_by(Incident.Zip) %>%\n",
    "summarise(n = n()) %>%\n",
    "filter(Incident.Zip>0)\n",
    "\n",
    "df_jan_feb <- merge(df_2023_jan_feb, df_2024_jan_feb, by = \"Incident.Zip\", all = TRUE)\n",
    "df_jan_feb[is.na(df_jan_feb)] <- 0\n",
    "# rename columns as zipcode, 2022, 2023\n",
    "colnames(df_jan_feb) <- c(\"zipcode\", \"2023\", \"2024\")\n",
    "\n",
    "df_jan_feb_long <- df_jan_feb %>%\n",
    "  gather(key = \"year\", value = \"value\", -zipcode)\n",
    "ggplot(df_jan_feb_long, aes(x = year, y = value)) +\n",
    "  geom_point() +\n",
    "  labs(title = \"Number of Complaints by Year and Zipcode\",\n",
    "       x = \"Year\",\n",
    "       y = \"Number of Complaints\")\n"
   ]
  },
  {
   "cell_type": "code",
   "execution_count": 21,
   "metadata": {},
   "outputs": [
    {
     "name": "stdout",
     "output_type": "stream",
     "text": [
      "\n",
      "\tWelch Two Sample t-test\n",
      "\n",
      "data:  value by year\n",
      "t = -2.357, df = 176.22, p-value = 0.01952\n",
      "alternative hypothesis: true difference in means between group 2023 and group 2024 is not equal to 0\n",
      "95 percent confidence interval:\n",
      " -3.2330834 -0.2862964\n",
      "sample estimates:\n",
      "mean in group 2023 mean in group 2024 \n",
      "           2.24031            4.00000 \n",
      "\n"
     ]
    }
   ],
   "source": [
    "%%R\n",
    "t.test(value ~ year, data = df_jan_feb_long) "
   ]
  },
  {
   "cell_type": "code",
   "execution_count": 22,
   "metadata": {},
   "outputs": [
    {
     "name": "stdout",
     "output_type": "stream",
     "text": [
      " [1] \"Unique.Key\"                     \"Created.Date\"                  \n",
      " [3] \"Closed.Date\"                    \"Agency\"                        \n",
      " [5] \"Agency.Name\"                    \"Complaint.Type\"                \n",
      " [7] \"Descriptor\"                     \"Location.Type\"                 \n",
      " [9] \"Incident.Zip\"                   \"Incident.Address\"              \n",
      "[11] \"Street.Name\"                    \"Cross.Street.1\"                \n",
      "[13] \"Cross.Street.2\"                 \"Intersection.Street.1\"         \n",
      "[15] \"Intersection.Street.2\"          \"Address.Type\"                  \n",
      "[17] \"City\"                           \"Landmark\"                      \n",
      "[19] \"Facility.Type\"                  \"Status\"                        \n",
      "[21] \"Due.Date\"                       \"Resolution.Action.Updated.Date\"\n",
      "[23] \"Community.Board\"                \"Borough\"                       \n",
      "[25] \"X.Coordinate..State.Plane.\"     \"Y.Coordinate..State.Plane.\"    \n",
      "[27] \"Park.Facility.Name\"             \"Park.Borough\"                  \n",
      "[29] \"Vehicle.Type\"                   \"Taxi.Company.Borough\"          \n",
      "[31] \"Taxi.Pick.Up.Location\"          \"Bridge.Highway.Name\"           \n",
      "[33] \"Bridge.Highway.Direction\"       \"Road.Ramp\"                     \n",
      "[35] \"Bridge.Highway.Segment\"         \"Latitude\"                      \n",
      "[37] \"Longitude\"                      \"Location\"                      \n",
      "[39] \"Duration\"                      \n"
     ]
    }
   ],
   "source": [
    "%%R\n",
    "# column names of df\n",
    "colnames(df)"
   ]
  },
  {
   "cell_type": "code",
   "execution_count": 37,
   "metadata": {},
   "outputs": [
    {
     "name": "stdout",
     "output_type": "stream",
     "text": [
      "`summarise()` has grouped output by 'Location.Type'. You can override using the\n",
      "`.groups` argument.\n",
      "                           BRONX BROOKLYN MANHATTAN QUEENS STATEN ISLAND\n",
      "Bridge                         3        0         1      1             0\n",
      "Highway                        2        2         1      8             0\n",
      "Park/Playground               92      220       132    295            53\n",
      "Pier                           0       19        14      9             3\n",
      "Residential Building/House   296      758       296    799           328\n",
      "Store/Commercial              11       42        18     67             2\n",
      "Street/Sidewalk              941     1717      1173   1760           543\n"
     ]
    }
   ],
   "source": [
    "%%R\n",
    "df_chi_square <- df %>%\n",
    "filter(year(Created.Date)==2023) %>%\n",
    "# only save columns: Unique.Key, Location.Type, Borough\n",
    "select(Unique.Key, Location.Type, Borough) %>%\n",
    "# create a pivot table, column=Location.Type, row=Borough, value=count\n",
    "group_by(Location.Type, Borough) %>%\n",
    "summarise(count = n()) %>%\n",
    "spread(key = Location.Type, value = count)%>%\n",
    "# change NA to 0\n",
    "replace(is.na(.), 0)%>%\n",
    "# delete row with Borough=Unspecified\n",
    "filter(Borough!=\"Unspecified\")%>%\n",
    "# switch row and column, delete the first row\n",
    "t()%>%\n",
    "as.data.frame()%>%\n",
    "# change column names\n",
    "setNames(.[1,])%>%\n",
    "# delete the second row\n",
    ".[2:nrow(.),]\n"
   ]
  },
  {
   "cell_type": "code",
   "execution_count": 42,
   "metadata": {},
   "outputs": [
    {
     "name": "stdout",
     "output_type": "stream",
     "text": [
      "                           BRONX BROOKLYN MANHATTAN QUEENS STATEN ISLAND\n",
      "Bridge                         3        0         1      1             0\n",
      "Highway                        2        2         1      8"
     ]
    },
    {
     "name": "stdout",
     "output_type": "stream",
     "text": [
      "             0\n",
      "Park/Playground               92      220       132    295            53\n",
      "Pier                           0       19        14      9             3\n",
      "Residential Building/House   296      758       296    799           328\n",
      "Store/Commercial              11       42        18     67             2\n",
      "Street/Sidewalk              941     1717      1173   1760           543\n"
     ]
    }
   ],
   "source": [
    "%%R\n",
    "data <- matrix(c(3, 0, 1, 1, 0,\n",
    "                 2, 2, 1, 8, 0,\n",
    "                 92, 220, 132, 295, 53,\n",
    "                 0, 19, 14, 9, 3,\n",
    "                 296, 758, 296, 799, 328,\n",
    "                 11, 42, 18, 67, 2,\n",
    "                 941, 1717, 1173, 1760, 543), \n",
    "               nrow = 7, \n",
    "               byrow = TRUE,\n",
    "               dimnames = list(c(\"Bridge\", \"Highway\", \"Park/Playground\", \"Pier\", \"Residential Building/House\", \"Store/Commercial\", \"Street/Sidewalk\"),\n",
    "                               c(\"BRONX\", \"BROOKLYN\", \"MANHATTAN\", \"QUEENS\", \"STATEN ISLAND\")))\n",
    "\n",
    "data"
   ]
  },
  {
   "cell_type": "code",
   "execution_count": 43,
   "metadata": {},
   "outputs": [
    {
     "name": "stdout",
     "output_type": "stream",
     "text": [
      "\n",
      "\tPearson's Chi-squared test\n",
      "\n",
      "data:  data\n",
      "X-squared = 203.21, df = 24, p-value < 2.2e-16\n",
      "\n"
     ]
    },
    {
     "data": {
      "text/plain": [
       "In addition: Warning message:\n",
       "In chisq.test(data) : Chi-squared approximation may be incorrect\n"
      ]
     },
     "metadata": {},
     "output_type": "display_data"
    }
   ],
   "source": [
    "%%R\n",
    "chisq.test(data)"
   ]
  }
 ],
 "metadata": {
  "kernelspec": {
   "display_name": "Python 3",
   "language": "python",
   "name": "python3"
  },
  "language_info": {
   "codemirror_mode": {
    "name": "ipython",
    "version": 3
   },
   "file_extension": ".py",
   "mimetype": "text/x-python",
   "name": "python",
   "nbconvert_exporter": "python",
   "pygments_lexer": "ipython3",
   "version": "3.11.6"
  }
 },
 "nbformat": 4,
 "nbformat_minor": 2
}
